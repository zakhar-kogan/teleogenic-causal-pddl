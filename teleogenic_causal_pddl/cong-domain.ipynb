{
  "cells": [
    {
      "cell_type": "markdown",
      "metadata": {
        "id": "6nOTljC_mTMn"
      },
      "source": [
        "## Congestion domain\n",
        "\n",
        "This python notebook shows the basic usage of the unified planning library + social laws extension to describe and solve a simple problem.\n",
        "\n",
        "[![Open In GitHub](https://img.shields.io/badge/see-Github-579aca?logo=github)](https:///github.com/aiplan4eu/unified-planning/blob/master/docs/notebooks/01-basic-example.ipynb)\n",
        "[![Open In Colab](https://colab.research.google.com/assets/colab-badge.svg)](https://colab.research.google.com/github/aiplan4eu/unified-planning/blob/master/docs/notebooks/01-basic-example.ipynb)"
      ]
    },
    {
      "cell_type": "markdown",
      "metadata": {
        "id": "t8dCcpf7mivV"
      },
      "source": [
        "## Setup\n"
      ]
    },
    {
      "cell_type": "markdown",
      "metadata": {
        "id": "9dP5scv7nNJu"
      },
      "source": [
        "### Imports"
      ]
    },
    {
      "cell_type": "code",
      "execution_count": 2,
      "metadata": {
        "id": "06rETnGAfQHg"
      },
      "outputs": [],
      "source": [
        "from up_social_laws.ma_problem_waitfor import MultiAgentProblemWithWaitfor\n",
        "from unified_planning.shortcuts import *\n",
        "from unified_planning.model.contingent_problem import *\n",
        "from unified_planning.model.multi_agent import *\n",
        "import up_fast_downward\n",
        "unified_planning.environment.get_environment().credits_stream = None"
      ]
    },
    {
      "cell_type": "markdown",
      "metadata": {
        "id": "i8J7rP0cnvXq"
      },
      "source": [
        "## Problem representation\n",
        "\n",
        "In this example, we will model a very simple robot navigation problem.\n",
        "\n",
        "### Types\n",
        "\n",
        "The first thing to do is to introduce a \"UserType\" to model the concept of a location. It is possible to introduce as many types as needed; then, for each type we will define a set of objects of that type.  \n",
        "\n",
        "In addition to `UserType`s we have three built-in types: `Bool`, `Real` and `Integer`."
      ]
    },
    {
      "cell_type": "code",
      "execution_count": 3,
      "metadata": {},
      "outputs": [],
      "source": [
        "problem = MultiAgentProblemWithWaitfor(\"congestion\")"
      ]
    },
    {
      "cell_type": "code",
      "execution_count": 4,
      "metadata": {
        "id": "huAy2IbVn0GZ"
      },
      "outputs": [],
      "source": [
        "Location = UserType('Location')"
      ]
    },
    {
      "cell_type": "markdown",
      "metadata": {
        "id": "fDukLfPPn20t"
      },
      "source": [
        "### Fluents and constants"
      ]
    },
    {
      "cell_type": "code",
      "execution_count": 5,
      "metadata": {
        "id": "LZUgad7ZoA2p"
      },
      "outputs": [],
      "source": [
        "problem.ma_environment.clear_fluents()\n",
        "\n",
        "# Location fluent\n",
        "robot_at = Fluent('robot_at', BoolType(), l=Location)\n",
        "\n",
        "# Free location fluent\n",
        "free = Fluent('free', BoolType(), l=Location)\n",
        "# free = problem.ma_environment.add_fluent('free',\n",
        "#                                         BoolType(),\n",
        "#                                         l=Location,\n",
        "#                                         default_initial_value=True)\n",
        "problem.ma_environment.add_fluent(free, default_initial_value=True)\n",
        "\n",
        "# Adjacency fluent\n",
        "connected = problem.ma_environment.add_fluent('connected', \n",
        "                                              BoolType(), \n",
        "                                              l_from=Location, \n",
        "                                              l_to=Location, \n",
        "                                              default_initial_value=False)"
      ]
    },
    {
      "cell_type": "markdown",
      "metadata": {
        "id": "rVzqSj3XoDPa"
      },
      "source": [
        "### Actions"
      ]
    },
    {
      "cell_type": "code",
      "execution_count": 6,
      "metadata": {
        "colab": {
          "base_uri": "https://localhost:8080/",
          "height": 143
        },
        "id": "dRfrnEOfoHD8",
        "outputId": "c8a05431-896c-426a-952a-bfa36bf39cc5"
      },
      "outputs": [],
      "source": [
        "# Define the action move(l_from, l_to)\n",
        "move = InstantaneousAction('move', l_from=Location, l_to=Location)\n",
        "\n",
        "# Define the parameters and preconditions\n",
        "l_from = move.parameter('l_from')\n",
        "l_to = move.parameter('l_to')\n",
        "move.add_precondition(connected(l_from, l_to))\n",
        "move.add_precondition(free(l_to))\n",
        "move.add_precondition(robot_at(l_from))\n",
        "\n",
        "# Define the effects\n",
        "move.add_effect(robot_at(l_from), False)\n",
        "move.add_effect(free(l_from), True)\n",
        "move.add_effect(free(l_to), False)\n",
        "move.add_effect(robot_at(l_to), True)"
      ]
    },
    {
      "cell_type": "markdown",
      "metadata": {
        "id": "iMuggWWioJ8K"
      },
      "source": [
        "## Creating the problem"
      ]
    },
    {
      "cell_type": "markdown",
      "metadata": {},
      "source": [
        "### Adding locations"
      ]
    },
    {
      "cell_type": "code",
      "execution_count": 7,
      "metadata": {
        "id": "jbwJbJv8oQ9B"
      },
      "outputs": [],
      "source": [
        "NLOC = 11\n",
        "locations = [Object(f'l{i+1}', Location) for i in range(NLOC)]\n",
        "problem.add_objects(locations)"
      ]
    },
    {
      "cell_type": "markdown",
      "metadata": {},
      "source": [
        "### Location adjacency"
      ]
    },
    {
      "cell_type": "markdown",
      "metadata": {},
      "source": [
        "Describing the location adjacency list as per [Overleaf document](https://www.overleaf.com/project/6485ea4fc610a58da86e2178).\n",
        "\n",
        "![picture 0](https://i.imgur.com/zHkWzky.png)  "
      ]
    },
    {
      "cell_type": "code",
      "execution_count": 8,
      "metadata": {},
      "outputs": [
        {
          "name": "stdout",
          "output_type": "stream",
          "text": [
            "1 -> 2\n",
            "2 -> 3\n",
            "3 -> 4\n",
            "1 -> 5\n",
            "2 -> 5\n",
            "3 -> 5\n",
            "4 -> 5\n",
            "1 -> 6\n",
            "2 -> 6\n",
            "3 -> 6\n",
            "4 -> 6\n",
            "5 -> 7\n",
            "6 -> 7\n",
            "7 -> 8\n",
            "7 -> 9\n",
            "7 -> 10\n",
            "7 -> 11\n",
            "8 -> 9\n",
            "9 -> 10\n",
            "10 -> 11\n"
          ]
        }
      ],
      "source": [
        "connections = [\n",
        "    (1, 2), (2, 3), (3, 4),\n",
        "    (1, 5), (2, 5), (3, 5), (4, 5),\n",
        "    (1, 6), (2, 6), (3, 6), (4, 6),\n",
        "    (5, 7), (6, 7),\n",
        "    (7, 8), (7, 9), (7, 10), (7, 11),\n",
        "    (8, 9), (9, 10), (10, 11)\n",
        "]\n",
        "\n",
        "for i, j in connections:\n",
        "    problem.set_initial_value(connected(locations[i-1], locations[j-1]), True)\n",
        "    print(f'{i} -> {j}')"
      ]
    },
    {
      "cell_type": "markdown",
      "metadata": {},
      "source": [
        "### Agents"
      ]
    },
    {
      "cell_type": "markdown",
      "metadata": {
        "id": "re1sYZHKoYx5"
      },
      "source": [
        "Now we're setting the agents. We need robots to be in locations `l1-l4`, and get to locations `l8-l11` in the end."
      ]
    },
    {
      "cell_type": "code",
      "execution_count": 9,
      "metadata": {
        "colab": {
          "base_uri": "https://localhost:8080/"
        },
        "id": "4zKqcGHlocdY",
        "outputId": "bd9ac688-70d6-40ed-eced-a92c57ee1c50"
      },
      "outputs": [],
      "source": [
        "problem.clear_agents()\n",
        "problem.clear_goals()\n",
        "\n",
        "robots_number = 4\n",
        "robots = []\n",
        "\n",
        "# for i in range(robots_number):\n",
        "#     robot = Agent(f'robot{i+1}', problem)\n",
        "#     robots.append(robot)\n",
        "#     robot.add_public_fluent(robot_at)\n",
        "#     robot.add_action(move)\n",
        "#     problem.add_agent(robot)\n",
        "\n",
        "# for index, robot in enumerate(robots):\n",
        "#     problem.set_initial_value(Dot(robot, robot_at(locations[index])), True)\n",
        "#     problem.set_initial_value(free(locations[index]), False)\n",
        "\n",
        "for i in range(robots_number):\n",
        "    robot = Agent(f'robot{i+1}', problem)\n",
        "    # robots.append(robot)\n",
        "    problem.add_agent(robot)\n",
        "    robot.add_public_fluent(robot_at, default_initial_value=False)\n",
        "    robot.add_action(move)\n",
        "    problem.set_initial_value(Dot(robot, robot_at(locations[i])), True)\n",
        "    problem.set_initial_value(free(locations[i]), False)\n",
        "    # problem.add_goal(Dot(robot, robot_at(locations[i+7])))"
      ]
    },
    {
      "cell_type": "markdown",
      "metadata": {},
      "source": [
        "### Final checks"
      ]
    },
    {
      "cell_type": "markdown",
      "metadata": {},
      "source": [
        "Checking that our robots have been planted correctly:"
      ]
    },
    {
      "cell_type": "code",
      "execution_count": null,
      "metadata": {},
      "outputs": [],
      "source": [
        "# for i, v in enumerate(robots):\n",
        "#     print(Dot(v, robot_at(locations[i])))"
      ]
    },
    {
      "cell_type": "markdown",
      "metadata": {},
      "source": [
        "And checking that our locations have been connected correctly:"
      ]
    },
    {
      "cell_type": "code",
      "execution_count": 10,
      "metadata": {},
      "outputs": [
        {
          "data": {
            "text/plain": [
              "['connected(l1, l2): true',\n",
              " 'connected(l1, l5): true',\n",
              " 'connected(l1, l6): true',\n",
              " 'connected(l10, l11): true',\n",
              " 'connected(l2, l3): true',\n",
              " 'connected(l2, l5): true',\n",
              " 'connected(l2, l6): true',\n",
              " 'connected(l3, l4): true',\n",
              " 'connected(l3, l5): true',\n",
              " 'connected(l3, l6): true',\n",
              " 'connected(l4, l5): true',\n",
              " 'connected(l4, l6): true',\n",
              " 'connected(l5, l7): true',\n",
              " 'connected(l6, l7): true',\n",
              " 'connected(l7, l10): true',\n",
              " 'connected(l7, l11): true',\n",
              " 'connected(l7, l8): true',\n",
              " 'connected(l7, l9): true',\n",
              " 'connected(l8, l9): true',\n",
              " 'connected(l9, l10): true',\n",
              " 'free(l1): false',\n",
              " 'free(l2): false',\n",
              " 'free(l3): false',\n",
              " 'free(l4): false',\n",
              " 'robot1.robot_at(l1): true',\n",
              " 'robot2.robot_at(l2): true',\n",
              " 'robot3.robot_at(l3): true',\n",
              " 'robot4.robot_at(l4): true']"
            ]
          },
          "execution_count": 10,
          "metadata": {},
          "output_type": "execute_result"
        }
      ],
      "source": [
        "# Prints a list of all the location connections sorted alphabetically\n",
        "sorted([f'{key}: {value}' for key, value in problem.explicit_initial_values.items() if (key)])"
      ]
    },
    {
      "cell_type": "markdown",
      "metadata": {},
      "source": [
        "### Goals"
      ]
    },
    {
      "cell_type": "markdown",
      "metadata": {},
      "source": [
        "Proving that we don't have any methods to add goals for an agent:"
      ]
    },
    {
      "cell_type": "code",
      "execution_count": 11,
      "metadata": {},
      "outputs": [
        {
          "name": "stdout",
          "output_type": "stream",
          "text": [
            "add_action\n",
            "add_actions\n",
            "add_fluent\n",
            "add_fluents\n",
            "add_private_fluent\n",
            "add_private_fluents\n",
            "add_private_goal\n",
            "add_public_fluent\n",
            "add_public_fluents\n",
            "add_public_goal\n"
          ]
        }
      ],
      "source": [
        "# print([method for method \n",
        "#        in dir(problem.agents[0]) \n",
        "#        if not method.startswith('_') \n",
        "#        and 'add' in method])\n",
        "\n",
        "for method in dir(problem.agents[0]):\n",
        "    if not method.startswith('_') and 'add' in method:\n",
        "        print(method)"
      ]
    },
    {
      "cell_type": "markdown",
      "metadata": {},
      "source": [
        "Defining the goals for robots:"
      ]
    },
    {
      "cell_type": "code",
      "execution_count": 12,
      "metadata": {},
      "outputs": [],
      "source": [
        "problem.clear_goals()\n",
        "\n",
        "for index, robot in enumerate(problem.agents):\n",
        "    current = problem.agent(robot.name)\n",
        "    # https://unified-planning.readthedocs.io/en/latest/problem_representation.html#multiagent-example\n",
        "    # problem.add_goal(Equals(Dot(current, robot_at), locations[index+7]))\n",
        "    # The only way that seems to work, BUT still getting AttributeError: MA_SINGLE_AGENT_PROJECTION\n",
        "    # print(current)\n",
        "    # problem.add_goal(Dot(current, robot_at(locations[index+7])))\n",
        "    # A hacky way to add public goals, BUT the print(problem doesn't work)\n",
        "    # https://github.com/aiplan4eu/up-social-laws/blob/master/docs/notebook/Social_laws_usecase.ipynb\n",
        "    # current.public_goals += robot_at(locations[index+7])\n",
        "    # example from tests/test-social-law.py\n",
        "    current.add_public_goal(current.fluent(\"robot_at\")(locations[index+7]))"
      ]
    },
    {
      "cell_type": "markdown",
      "metadata": {},
      "source": [
        "Checking our goals had been set correctly:"
      ]
    },
    {
      "cell_type": "code",
      "execution_count": 13,
      "metadata": {},
      "outputs": [
        {
          "name": "stdout",
          "output_type": "stream",
          "text": [
            "[]\n",
            "\n",
            "robot1 ⇢ [robot_at(l8)]\n",
            "robot2 ⇢ [robot_at(l9)]\n",
            "robot3 ⇢ [robot_at(l10)]\n",
            "robot4 ⇢ [robot_at(l11)]\n"
          ]
        }
      ],
      "source": [
        "# Overall\n",
        "print(problem.goals, end='\\n\\n')\n",
        "# Per-agent\n",
        "try:\n",
        "    for agent in problem.agents:\n",
        "        print(f\"{agent.name} ⇢ {agent.public_goals}\")\n",
        "except AttributeError:\n",
        "    print(problem)"
      ]
    },
    {
      "cell_type": "markdown",
      "metadata": {},
      "source": [
        "And printing the problem to check everything is as expected:"
      ]
    },
    {
      "cell_type": "code",
      "execution_count": null,
      "metadata": {},
      "outputs": [],
      "source": [
        "problem"
      ]
    },
    {
      "cell_type": "markdown",
      "metadata": {},
      "source": [
        "## Robustness check (fails)"
      ]
    },
    {
      "cell_type": "code",
      "execution_count": 19,
      "metadata": {},
      "outputs": [
        {
          "name": "stdout",
          "output_type": "stream",
          "text": [
            "PROBLEM_CLASS: ['ACTION_BASED', 'ACTION_BASED_MULTI_AGENT']\n",
            "TIME: ['TIMED_EFFECTS', 'CONTINUOUS_TIME', 'TIMED_GOALS', 'INTERMEDIATE_CONDITIONS_AND_EFFECTS', 'DURATION_INEQUALITIES']\n",
            "EXPRESSION_DURATION: ['STATIC_FLUENTS_IN_DURATIONS']\n",
            "CONDITIONS_KIND: ['DISJUNCTIVE_CONDITIONS', 'NEGATIVE_CONDITIONS', 'UNIVERSAL_CONDITIONS', 'EQUALITIES', 'EXISTENTIAL_CONDITIONS']\n",
            "EFFECTS_KIND: ['CONDITIONAL_EFFECTS']\n",
            "TYPING: ['HIERARCHICAL_TYPING', 'FLAT_TYPING']\n",
            "FLUENTS_TYPE: ['OBJECT_FLUENTS', 'NUMERIC_FLUENTS']\n",
            "QUALITY_METRICS: ['ACTIONS_COST']\n",
            "MULTI_AGENT: ['AGENT_SPECIFIC_PUBLIC_GOAL', 'AGENT_SPECIFIC_PRIVATE_GOAL']\n",
            "False\n",
            "status= SocialLawRobustnessStatus.NON_ROBUST_SINGLE_AGENT\n",
            "counter example (original actions):  None\n",
            "counter example (compiled actions):  None\n"
          ]
        }
      ],
      "source": [
        "from up_social_laws.robustness_checker import *\n",
        "\n",
        "# activate up-fast-downward planner\n",
        "slrc = SocialLawRobustnessChecker()\n",
        "print(slrc.supported_kind())\n",
        "sa_result = slrc.is_single_agent_solvable(problem)\n",
        "result = slrc.is_robust(problem)\n",
        "\n",
        "print(sa_result)\n",
        "print(\"status=\", result.status)\n",
        "print(\"counter example (original actions): \", result.counter_example_orig_actions)\n",
        "print(\"counter example (compiled actions): \", result.counter_example)"
      ]
    },
    {
      "cell_type": "markdown",
      "metadata": {},
      "source": [
        "## Applying social laws\n",
        "\n",
        "As per the [proposed solution](https://www.overleaf.com/read/hmvfmxswjrfd)."
      ]
    },
    {
      "cell_type": "code",
      "execution_count": 20,
      "metadata": {},
      "outputs": [
        {
          "name": "stdout",
          "output_type": "stream",
          "text": [
            "0.1.0\n",
            "problem name = sl_congestion\n",
            "\n",
            "types = [Location]\n",
            "\n",
            "environment fluents = [\n",
            "  bool free[l=Location]\n",
            "  bool connected[l_from=Location, l_to=Location]\n",
            "]\n",
            "\n",
            "agents = [\n",
            "  Agent name = robot1\n",
            "\n",
            "private fluents = [\n",
            "]\n",
            "\n",
            "public fluents = [\n",
            " bool robot_at[l=Location]\n",
            "]\n",
            "\n",
            "actions = [\n",
            " action move(Location l_from, Location l_to) {\n",
            "    preconditions = [\n",
            "      connected(l_from, l_to)\n",
            "      free(l_to)\n",
            "      robot_at(l_from)\n",
            "    ]\n",
            "    effects = [\n",
            "      robot_at(l_from) := false\n",
            "      free(l_from) := true\n",
            "      free(l_to) := false\n",
            "      robot_at(l_to) := true\n",
            "    ]\n",
            "  }\n",
            "]\n",
            "\n",
            "private goals = [\n",
            "]\n",
            "\n",
            "public goals = [\n",
            " robot_at(l8)\n",
            "]\n",
            "\n",
            "\n",
            "  Agent name = robot2\n",
            "\n",
            "private fluents = [\n",
            "]\n",
            "\n",
            "public fluents = [\n",
            " bool robot_at[l=Location]\n",
            "]\n",
            "\n",
            "actions = [\n",
            " action move(Location l_from, Location l_to) {\n",
            "    preconditions = [\n",
            "      connected(l_from, l_to)\n",
            "      free(l_to)\n",
            "      robot_at(l_from)\n",
            "    ]\n",
            "    effects = [\n",
            "      robot_at(l_from) := false\n",
            "      free(l_from) := true\n",
            "      free(l_to) := false\n",
            "      robot_at(l_to) := true\n",
            "    ]\n",
            "  }\n",
            "]\n",
            "\n",
            "private goals = [\n",
            "]\n",
            "\n",
            "public goals = [\n",
            " robot_at(l9)\n",
            "]\n",
            "\n",
            "\n",
            "  Agent name = robot3\n",
            "\n",
            "private fluents = [\n",
            "]\n",
            "\n",
            "public fluents = [\n",
            " bool robot_at[l=Location]\n",
            "]\n",
            "\n",
            "actions = [\n",
            " action move(Location l_from, Location l_to) {\n",
            "    preconditions = [\n",
            "      connected(l_from, l_to)\n",
            "      free(l_to)\n",
            "      robot_at(l_from)\n",
            "    ]\n",
            "    effects = [\n",
            "      robot_at(l_from) := false\n",
            "      free(l_from) := true\n",
            "      free(l_to) := false\n",
            "      robot_at(l_to) := true\n",
            "    ]\n",
            "  }\n",
            "]\n",
            "\n",
            "private goals = [\n",
            "]\n",
            "\n",
            "public goals = [\n",
            " robot_at(l10)\n",
            "]\n",
            "\n",
            "\n",
            "  Agent name = robot4\n",
            "\n",
            "private fluents = [\n",
            "]\n",
            "\n",
            "public fluents = [\n",
            " bool robot_at[l=Location]\n",
            "]\n",
            "\n",
            "actions = [\n",
            " action move(Location l_from, Location l_to) {\n",
            "    preconditions = [\n",
            "      connected(l_from, l_to)\n",
            "      free(l_to)\n",
            "      robot_at(l_from)\n",
            "    ]\n",
            "    effects = [\n",
            "      robot_at(l_from) := false\n",
            "      free(l_from) := true\n",
            "      free(l_to) := false\n",
            "      robot_at(l_to) := true\n",
            "    ]\n",
            "  }\n",
            "]\n",
            "\n",
            "private goals = [\n",
            "]\n",
            "\n",
            "public goals = [\n",
            " robot_at(l11)\n",
            "]\n",
            "\n",
            "\n",
            "]\n",
            "\n",
            "objects = [\n",
            "  Location: [l1, l2, l3, l4, l5, l6, l7, l8, l9, l10, l11]\n",
            "]\n",
            "\n",
            "initial values = [\n",
            "  connected(l1, l2) := true\n",
            "  connected(l2, l3) := true\n",
            "  connected(l3, l4) := true\n",
            "  connected(l1, l5) := true\n",
            "  connected(l2, l5) := true\n",
            "  connected(l3, l5) := true\n",
            "  connected(l4, l5) := true\n",
            "  connected(l1, l6) := true\n",
            "  connected(l2, l6) := true\n",
            "  connected(l3, l6) := true\n",
            "  connected(l4, l6) := true\n",
            "  connected(l5, l7) := true\n",
            "  connected(l6, l7) := true\n",
            "  connected(l7, l8) := true\n",
            "  connected(l7, l9) := true\n",
            "  connected(l7, l10) := true\n",
            "  connected(l7, l11) := true\n",
            "  connected(l8, l9) := true\n",
            "  connected(l9, l10) := true\n",
            "  connected(l10, l11) := true\n",
            "  robot1.robot_at(l1) := true\n",
            "  free(l1) := false\n",
            "  robot2.robot_at(l2) := true\n",
            "  free(l2) := false\n",
            "  robot3.robot_at(l3) := true\n",
            "  free(l3) := false\n",
            "  robot4.robot_at(l4) := true\n",
            "  free(l4) := false\n",
            "]\n",
            "\n",
            "goals = [\n",
            "]\n",
            "\n",
            "\n",
            "waitfor: {('robot2', 'move'): ['free(l_to)'], ('robot3', 'move'): ['free(l_to)'], ('robot1', 'move'): ['free(l_to)'], ('robot4', 'move'): ['free(l_to)']}\n"
          ]
        }
      ],
      "source": [
        "import up_social_laws\n",
        "print(up_social_laws.__version__)\n",
        "\n",
        "from up_social_laws.social_law import SocialLaw\n",
        "\n",
        "l = SocialLaw()\n",
        "\n",
        "for agent in problem.agents:\n",
        "    # Use only strings because this should work on any given problem, and note the extra comment to make (\"l2\",) a tuple (as (\"l2\") is interpreted as \"l2\" )\n",
        "    l.add_waitfor_annotation(agent.name, \"move\", \"free\", (\"l_to\",))\n",
        "    \n",
        "new_problem = l.compile(problem).problem\n",
        "\n",
        "print(new_problem)"
      ]
    },
    {
      "cell_type": "markdown",
      "metadata": {},
      "source": [
        "### Verifying the new problem"
      ]
    },
    {
      "cell_type": "code",
      "execution_count": 21,
      "metadata": {},
      "outputs": [
        {
          "name": "stdout",
          "output_type": "stream",
          "text": [
            "SocialLawRobustnessStatus.NON_ROBUST_SINGLE_AGENT\n",
            "None\n"
          ]
        }
      ],
      "source": [
        "result = slrc.is_robust(new_problem)\n",
        "\n",
        "print(result.status)\n",
        "print(result.counter_example)"
      ]
    },
    {
      "cell_type": "markdown",
      "metadata": {},
      "source": [
        "### Trying to solve"
      ]
    },
    {
      "cell_type": "code",
      "execution_count": 23,
      "metadata": {},
      "outputs": [
        {
          "ename": "AttributeError",
          "evalue": "module 'unified_planning.engines.results' has no attribute 'UNSOLVABLE_INCOMPLETELY'",
          "output_type": "error",
          "traceback": [
            "\u001b[0;31m---------------------------------------------------------------------------\u001b[0m",
            "\u001b[0;31mAttributeError\u001b[0m                            Traceback (most recent call last)",
            "\u001b[1;32m/Users/zakhar/Desktop/code/teleogenic-causal-pddl/teleogenic_causal_pddl/cong-domain.ipynb Cell 42\u001b[0m line \u001b[0;36m1\n\u001b[0;32m----> <a href='vscode-notebook-cell:/Users/zakhar/Desktop/code/teleogenic-causal-pddl/teleogenic_causal_pddl/cong-domain.ipynb#X54sZmlsZQ%3D%3D?line=0'>1</a>\u001b[0m result \u001b[39m=\u001b[39m slrc\u001b[39m.\u001b[39;49msolve(new_problem)\n\u001b[1;32m      <a href='vscode-notebook-cell:/Users/zakhar/Desktop/code/teleogenic-causal-pddl/teleogenic_causal_pddl/cong-domain.ipynb#X54sZmlsZQ%3D%3D?line=1'>2</a>\u001b[0m \u001b[39mprint\u001b[39m(result\u001b[39m.\u001b[39mstatus)\n\u001b[1;32m      <a href='vscode-notebook-cell:/Users/zakhar/Desktop/code/teleogenic-causal-pddl/teleogenic_causal_pddl/cong-domain.ipynb#X54sZmlsZQ%3D%3D?line=2'>3</a>\u001b[0m \u001b[39mprint\u001b[39m(result\u001b[39m.\u001b[39mplan)\n",
            "File \u001b[0;32m~/Desktop/code/teleogenic-causal-pddl/.venv/lib/python3.11/site-packages/unified_planning/engines/mixins/oneshot_planner.py:80\u001b[0m, in \u001b[0;36mOneshotPlannerMixin.solve\u001b[0;34m(self, problem, heuristic, timeout, output_stream)\u001b[0m\n\u001b[1;32m     78\u001b[0m     msg \u001b[39m=\u001b[39m \u001b[39mf\u001b[39m\u001b[39m\"\u001b[39m\u001b[39mThe problem has no quality metrics but the engine is required to be optimal!\u001b[39m\u001b[39m\"\u001b[39m\n\u001b[1;32m     79\u001b[0m     \u001b[39mraise\u001b[39;00m up\u001b[39m.\u001b[39mexceptions\u001b[39m.\u001b[39mUPUsageError(msg)\n\u001b[0;32m---> 80\u001b[0m \u001b[39mreturn\u001b[39;00m \u001b[39mself\u001b[39;49m\u001b[39m.\u001b[39;49m_solve(problem, heuristic, timeout, output_stream)\n",
            "File \u001b[0;32m~/Desktop/code/teleogenic-causal-pddl/.venv/lib/python3.11/site-packages/up_social_laws/robustness_checker.py:195\u001b[0m, in \u001b[0;36mSocialLawRobustnessChecker._solve\u001b[0;34m(self, problem, callback, timeout, output_stream)\u001b[0m\n\u001b[1;32m    192\u001b[0m presult \u001b[39m=\u001b[39m planner\u001b[39m.\u001b[39msolve(result\u001b[39m.\u001b[39mproblem, timeout\u001b[39m=\u001b[39mtimeout, output_stream\u001b[39m=\u001b[39moutput_stream)\n\u001b[1;32m    193\u001b[0m \u001b[39mif\u001b[39;00m presult\u001b[39m.\u001b[39mstatus \u001b[39mnot\u001b[39;00m \u001b[39min\u001b[39;00m unified_planning\u001b[39m.\u001b[39mengines\u001b[39m.\u001b[39mresults\u001b[39m.\u001b[39mPOSITIVE_OUTCOMES:\n\u001b[1;32m    194\u001b[0m     \u001b[39mreturn\u001b[39;00m unified_planning\u001b[39m.\u001b[39mengines\u001b[39m.\u001b[39mresults\u001b[39m.\u001b[39mPlanGenerationResult(\n\u001b[0;32m--> 195\u001b[0m         unified_planning\u001b[39m.\u001b[39;49mengines\u001b[39m.\u001b[39;49mresults\u001b[39m.\u001b[39;49mUNSOLVABLE_INCOMPLETELY,\n\u001b[1;32m    196\u001b[0m         plan\u001b[39m=\u001b[39m\u001b[39mNone\u001b[39;00m,\n\u001b[1;32m    197\u001b[0m         engine_name \u001b[39m=\u001b[39m \u001b[39mself\u001b[39m\u001b[39m.\u001b[39mname)\n\u001b[1;32m    198\u001b[0m plans[agent] \u001b[39m=\u001b[39m presult\u001b[39m.\u001b[39mplan\n\u001b[1;32m    199\u001b[0m current_step[agent] \u001b[39m=\u001b[39m \u001b[39m0\u001b[39m\n",
            "\u001b[0;31mAttributeError\u001b[0m: module 'unified_planning.engines.results' has no attribute 'UNSOLVABLE_INCOMPLETELY'"
          ]
        }
      ],
      "source": [
        "\n",
        "\n",
        "result = slrc.solve(new_problem)\n",
        "print(result.status)\n",
        "print(result.plan)"
      ]
    },
    {
      "cell_type": "markdown",
      "metadata": {},
      "source": [
        "Looks like the problem was solved successfully\n",
        "\n",
        "> #### TODO: \n",
        "> - [ ] Plot the solution\n",
        "> - [x] Fix the problem with social law generation and robustness check / planners\n",
        "> - [x] Use fast-downward planner\n",
        "> - [ ] Fix the problem?"
      ]
    }
  ],
  "metadata": {
    "celltoolbar": "Tags",
    "colab": {
      "provenance": []
    },
    "kernelspec": {
      "display_name": "Python 3 (ipykernel)",
      "language": "python",
      "name": "python3"
    },
    "language_info": {
      "codemirror_mode": {
        "name": "ipython",
        "version": 3
      },
      "file_extension": ".py",
      "mimetype": "text/x-python",
      "name": "python",
      "nbconvert_exporter": "python",
      "pygments_lexer": "ipython3",
      "version": "3.11.2"
    },
    "vscode": {
      "interpreter": {
        "hash": "fcfc934ecfdac8ddac62d6a80ba8d82faf47dc8d54fd6a313f0c016b85ebec0e"
      }
    }
  },
  "nbformat": 4,
  "nbformat_minor": 0
}
