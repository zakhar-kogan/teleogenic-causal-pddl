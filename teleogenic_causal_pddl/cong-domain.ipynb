{
  "cells": [
    {
      "cell_type": "markdown",
      "metadata": {
        "id": "6nOTljC_mTMn"
      },
      "source": [
        "## Congestion domain\n",
        "\n",
        "This python notebook shows the basic usage of the unified planning library + social laws extension to describe and solve a simple problem.\n",
        "\n",
        "[![Open In GitHub](https://img.shields.io/badge/see-Github-579aca?logo=github)](https:///github.com/aiplan4eu/unified-planning/blob/master/docs/notebooks/01-basic-example.ipynb)\n",
        "[![Open In Colab](https://colab.research.google.com/assets/colab-badge.svg)](https://colab.research.google.com/github/aiplan4eu/unified-planning/blob/master/docs/notebooks/01-basic-example.ipynb)"
      ]
    },
    {
      "cell_type": "markdown",
      "metadata": {
        "id": "t8dCcpf7mivV"
      },
      "source": [
        "## Setup\n"
      ]
    },
    {
      "cell_type": "markdown",
      "metadata": {
        "id": "9dP5scv7nNJu"
      },
      "source": [
        "### Imports"
      ]
    },
    {
      "cell_type": "code",
      "execution_count": 21,
      "metadata": {
        "id": "06rETnGAfQHg"
      },
      "outputs": [],
      "source": [
        "from up_social_laws.ma_problem_waitfor import MultiAgentProblemWithWaitfor\n",
        "import up_social_laws as upsl\n",
        "from unified_planning.shortcuts import *\n",
        "from unified_planning.model.multi_agent import *\n",
        "unified_planning.environment.get_environment().credits_stream = None"
      ]
    },
    {
      "cell_type": "markdown",
      "metadata": {
        "id": "i8J7rP0cnvXq"
      },
      "source": [
        "## Problem representation\n",
        "\n",
        "In this example, we will model a very simple robot navigation problem.\n",
        "\n",
        "### Types\n",
        "\n",
        "The first thing to do is to introduce a \"UserType\" to model the concept of a location. It is possible to introduce as many types as needed; then, for each type we will define a set of objects of that type.  \n",
        "\n",
        "In addition to `UserType`s we have three built-in types: `Bool`, `Real` and `Integer`."
      ]
    },
    {
      "cell_type": "code",
      "execution_count": 3,
      "metadata": {},
      "outputs": [],
      "source": [
        "problem = MultiAgentProblemWithWaitfor(\"congestion\")"
      ]
    },
    {
      "cell_type": "code",
      "execution_count": 4,
      "metadata": {
        "id": "huAy2IbVn0GZ"
      },
      "outputs": [],
      "source": [
        "Location = UserType('Location')"
      ]
    },
    {
      "cell_type": "markdown",
      "metadata": {
        "id": "fDukLfPPn20t"
      },
      "source": [
        "### Fluents and constants"
      ]
    },
    {
      "cell_type": "code",
      "execution_count": 5,
      "metadata": {
        "id": "LZUgad7ZoA2p"
      },
      "outputs": [],
      "source": [
        "problem.ma_environment.clear_fluents()\n",
        "\n",
        "# Location fluent\n",
        "robot_at = Fluent('robot_at', BoolType(), l=Location)\n",
        "\n",
        "# Free location fluent\n",
        "free = Fluent('free', BoolType(), l=Location)\n",
        "# free = problem.ma_environment.add_fluent('free',\n",
        "#                                         BoolType(),\n",
        "#                                         l=Location,\n",
        "#                                         default_initial_value=True)\n",
        "problem.ma_environment.add_fluent(free, default_initial_value=True)\n",
        "\n",
        "# Adjacency fluent\n",
        "connected = problem.ma_environment.add_fluent('connected', \n",
        "                                              BoolType(), \n",
        "                                              l_from=Location, \n",
        "                                              l_to=Location, \n",
        "                                              default_initial_value=False)"
      ]
    },
    {
      "cell_type": "markdown",
      "metadata": {
        "id": "rVzqSj3XoDPa"
      },
      "source": [
        "### Actions"
      ]
    },
    {
      "cell_type": "code",
      "execution_count": 6,
      "metadata": {
        "colab": {
          "base_uri": "https://localhost:8080/",
          "height": 143
        },
        "id": "dRfrnEOfoHD8",
        "outputId": "c8a05431-896c-426a-952a-bfa36bf39cc5"
      },
      "outputs": [],
      "source": [
        "# Define the action move(l_from, l_to)\n",
        "move = InstantaneousAction('move', l_from=Location, l_to=Location)\n",
        "\n",
        "# Define the parameters and preconditions\n",
        "l_from = move.parameter('l_from')\n",
        "l_to = move.parameter('l_to')\n",
        "move.add_precondition(connected(l_from, l_to))\n",
        "move.add_precondition(free(l_to))\n",
        "move.add_precondition(robot_at(l_from))\n",
        "\n",
        "# Define the effects\n",
        "move.add_effect(robot_at(l_from), False)\n",
        "move.add_effect(free(l_from), True)\n",
        "move.add_effect(free(l_to), False)\n",
        "move.add_effect(robot_at(l_to), True)"
      ]
    },
    {
      "cell_type": "markdown",
      "metadata": {
        "id": "iMuggWWioJ8K"
      },
      "source": [
        "## Creating the problem"
      ]
    },
    {
      "cell_type": "markdown",
      "metadata": {},
      "source": [
        "### Adding locations"
      ]
    },
    {
      "cell_type": "code",
      "execution_count": 7,
      "metadata": {
        "id": "jbwJbJv8oQ9B"
      },
      "outputs": [],
      "source": [
        "NLOC = 11\n",
        "locations = [Object(f'l{i+1}', Location) for i in range(NLOC)]\n",
        "problem.add_objects(locations)"
      ]
    },
    {
      "cell_type": "markdown",
      "metadata": {},
      "source": [
        "### Location adjacency"
      ]
    },
    {
      "cell_type": "markdown",
      "metadata": {},
      "source": [
        "Describing the location adjacency list as per [Overleaf document](https://www.overleaf.com/project/6485ea4fc610a58da86e2178).\n",
        "\n",
        "![picture 0](https://i.imgur.com/zHkWzky.png)  "
      ]
    },
    {
      "cell_type": "code",
      "execution_count": 8,
      "metadata": {},
      "outputs": [
        {
          "name": "stdout",
          "output_type": "stream",
          "text": [
            "1 -> 2\n",
            "2 -> 3\n",
            "3 -> 4\n",
            "1 -> 5\n",
            "2 -> 5\n",
            "3 -> 5\n",
            "4 -> 5\n",
            "1 -> 6\n",
            "2 -> 6\n",
            "3 -> 6\n",
            "4 -> 6\n",
            "5 -> 7\n",
            "6 -> 7\n",
            "7 -> 8\n",
            "7 -> 9\n",
            "7 -> 10\n",
            "7 -> 11\n",
            "8 -> 9\n",
            "9 -> 10\n",
            "10 -> 11\n"
          ]
        }
      ],
      "source": [
        "connections = [\n",
        "    (1, 2), (2, 3), (3, 4),\n",
        "    (1, 5), (2, 5), (3, 5), (4, 5),\n",
        "    (1, 6), (2, 6), (3, 6), (4, 6),\n",
        "    (5, 7), (6, 7),\n",
        "    (7, 8), (7, 9), (7, 10), (7, 11),\n",
        "    (8, 9), (9, 10), (10, 11)\n",
        "]\n",
        "\n",
        "for i, j in connections:\n",
        "    problem.set_initial_value(connected(locations[i-1], locations[j-1]), True)\n",
        "    print(f'{i} -> {j}')"
      ]
    },
    {
      "cell_type": "markdown",
      "metadata": {},
      "source": [
        "### Agents"
      ]
    },
    {
      "cell_type": "markdown",
      "metadata": {
        "id": "re1sYZHKoYx5"
      },
      "source": [
        "Now we're setting the agents. We need robots to be in locations `l1-l4`, and get to locations `l8-l11` in the end."
      ]
    },
    {
      "cell_type": "code",
      "execution_count": 9,
      "metadata": {
        "colab": {
          "base_uri": "https://localhost:8080/"
        },
        "id": "4zKqcGHlocdY",
        "outputId": "bd9ac688-70d6-40ed-eced-a92c57ee1c50"
      },
      "outputs": [],
      "source": [
        "problem.clear_agents()\n",
        "problem.clear_goals()\n",
        "\n",
        "robots_number = 4\n",
        "robots = []\n",
        "\n",
        "# for i in range(robots_number):\n",
        "#     robot = Agent(f'robot{i+1}', problem)\n",
        "#     robots.append(robot)\n",
        "#     robot.add_public_fluent(robot_at)\n",
        "#     robot.add_action(move)\n",
        "#     problem.add_agent(robot)\n",
        "\n",
        "# for index, robot in enumerate(robots):\n",
        "#     problem.set_initial_value(Dot(robot, robot_at(locations[index])), True)\n",
        "#     problem.set_initial_value(free(locations[index]), False)\n",
        "\n",
        "for i in range(robots_number):\n",
        "    robot = Agent(f'robot{i+1}', problem)\n",
        "    # robots.append(robot)\n",
        "    problem.add_agent(robot)\n",
        "    robot.add_public_fluent(robot_at, default_initial_value=False)\n",
        "    robot.add_action(move)\n",
        "    problem.set_initial_value(Dot(robot, robot_at(locations[i])), True)\n",
        "    problem.set_initial_value(free(locations[i]), False)\n",
        "    problem.add_goal(Dot(robot, robot_at(locations[i+7])))"
      ]
    },
    {
      "cell_type": "markdown",
      "metadata": {},
      "source": [
        "### Final checks"
      ]
    },
    {
      "cell_type": "markdown",
      "metadata": {},
      "source": [
        "Checking that our robots have been planted correctly:"
      ]
    },
    {
      "cell_type": "code",
      "execution_count": null,
      "metadata": {},
      "outputs": [],
      "source": [
        "# for i, v in enumerate(robots):\n",
        "#     print(Dot(v, robot_at(locations[i])))"
      ]
    },
    {
      "cell_type": "markdown",
      "metadata": {},
      "source": [
        "And checking that our locations have been connected correctly:"
      ]
    },
    {
      "cell_type": "code",
      "execution_count": 10,
      "metadata": {},
      "outputs": [
        {
          "data": {
            "text/plain": [
              "['connected(l1, l2): true',\n",
              " 'connected(l1, l5): true',\n",
              " 'connected(l1, l6): true',\n",
              " 'connected(l10, l11): true',\n",
              " 'connected(l2, l3): true',\n",
              " 'connected(l2, l5): true',\n",
              " 'connected(l2, l6): true',\n",
              " 'connected(l3, l4): true',\n",
              " 'connected(l3, l5): true',\n",
              " 'connected(l3, l6): true',\n",
              " 'connected(l4, l5): true',\n",
              " 'connected(l4, l6): true',\n",
              " 'connected(l5, l7): true',\n",
              " 'connected(l6, l7): true',\n",
              " 'connected(l7, l10): true',\n",
              " 'connected(l7, l11): true',\n",
              " 'connected(l7, l8): true',\n",
              " 'connected(l7, l9): true',\n",
              " 'connected(l8, l9): true',\n",
              " 'connected(l9, l10): true',\n",
              " 'free(l1): false',\n",
              " 'free(l2): false',\n",
              " 'free(l3): false',\n",
              " 'free(l4): false',\n",
              " 'robot1.robot_at(l1): true',\n",
              " 'robot2.robot_at(l2): true',\n",
              " 'robot3.robot_at(l3): true',\n",
              " 'robot4.robot_at(l4): true']"
            ]
          },
          "execution_count": 10,
          "metadata": {},
          "output_type": "execute_result"
        }
      ],
      "source": [
        "# Prints a list of all the location connections sorted alphabetically\n",
        "sorted([f'{key}: {value}' for key, value in problem.explicit_initial_values.items() if (key)])"
      ]
    },
    {
      "cell_type": "markdown",
      "metadata": {},
      "source": [
        "### Goals"
      ]
    },
    {
      "cell_type": "markdown",
      "metadata": {},
      "source": [
        "Proving that we don't have any methods to add goals for an agent:"
      ]
    },
    {
      "cell_type": "code",
      "execution_count": 15,
      "metadata": {},
      "outputs": [
        {
          "name": "stdout",
          "output_type": "stream",
          "text": [
            "add_action\n",
            "add_actions\n",
            "add_fluent\n",
            "add_fluents\n",
            "add_private_fluent\n",
            "add_private_fluents\n",
            "add_public_fluent\n",
            "add_public_fluents\n"
          ]
        }
      ],
      "source": [
        "# print([method for method \n",
        "#        in dir(problem.agents[0]) \n",
        "#        if not method.startswith('_') \n",
        "#        and 'add' in method])\n",
        "\n",
        "for method in dir(problem.agents[0]):\n",
        "    if not method.startswith('_') and 'add' in method:\n",
        "        print(method)"
      ]
    },
    {
      "cell_type": "markdown",
      "metadata": {},
      "source": [
        "Defining the goals for robots:"
      ]
    },
    {
      "cell_type": "code",
      "execution_count": 20,
      "metadata": {},
      "outputs": [],
      "source": [
        "problem.clear_goals()\n",
        "\n",
        "for index, robot in enumerate(problem.agents):\n",
        "    current = problem.agent(robot.name)\n",
        "    # https://unified-planning.readthedocs.io/en/latest/problem_representation.html#multiagent-example\n",
        "    # problem.add_goal(Equals(Dot(current, robot_at), locations[index+7]))\n",
        "    # The only way that seems to work, BUT still getting AttributeError: MA_SINGLE_AGENT_PROJECTION\n",
        "    # print(current)\n",
        "    problem.add_goal(Dot(current, robot_at(locations[index+7])))\n",
        "    # A hacky way to add public goals, BUT the print(problem doesn't work)\n",
        "    # https://github.com/aiplan4eu/up-social-laws/blob/master/docs/notebook/Social_laws_usecase.ipynb\n",
        "    # current.public_goals += robot_at(locations[index+7])\n",
        "    # example from tests/test-social-law.py\n",
        "    # current.add_public_goal(current.fluent(\"robot_at\")(locations[index+7]))"
      ]
    },
    {
      "cell_type": "markdown",
      "metadata": {},
      "source": [
        "Checking our goals had been set correctly:"
      ]
    },
    {
      "cell_type": "code",
      "execution_count": 23,
      "metadata": {},
      "outputs": [
        {
          "name": "stdout",
          "output_type": "stream",
          "text": [
            "[robot1.robot_at(l8), robot2.robot_at(l9), robot3.robot_at(l10), robot4.robot_at(l11)]\n",
            "\n",
            "problem name = congestion\n",
            "\n",
            "types = [Location]\n",
            "\n",
            "environment fluents = [\n",
            "  bool free[l=Location]\n",
            "  bool connected[l_from=Location, l_to=Location]\n",
            "]\n",
            "\n",
            "agents = [\n",
            "  Agent name = robot1\n",
            "\n",
            "private fluents = [\n",
            "]\n",
            "\n",
            "public fluents = [\n",
            " bool robot_at[l=Location]\n",
            "]\n",
            "\n",
            "actions = [\n",
            " action move(Location l_from, Location l_to) {\n",
            "    preconditions = [\n",
            "      connected(l_from, l_to)\n",
            "      free(l_to)\n",
            "      robot_at(l_from)\n",
            "    ]\n",
            "    effects = [\n",
            "      robot_at(l_from) := false\n",
            "      free(l_from) := true\n",
            "      free(l_to) := false\n",
            "      robot_at(l_to) := true\n",
            "    ]\n",
            "  }\n",
            "]\n",
            "\n",
            "\n",
            "  Agent name = robot2\n",
            "\n",
            "private fluents = [\n",
            "]\n",
            "\n",
            "public fluents = [\n",
            " bool robot_at[l=Location]\n",
            "]\n",
            "\n",
            "actions = [\n",
            " action move(Location l_from, Location l_to) {\n",
            "    preconditions = [\n",
            "      connected(l_from, l_to)\n",
            "      free(l_to)\n",
            "      robot_at(l_from)\n",
            "    ]\n",
            "    effects = [\n",
            "      robot_at(l_from) := false\n",
            "      free(l_from) := true\n",
            "      free(l_to) := false\n",
            "      robot_at(l_to) := true\n",
            "    ]\n",
            "  }\n",
            "]\n",
            "\n",
            "\n",
            "  Agent name = robot3\n",
            "\n",
            "private fluents = [\n",
            "]\n",
            "\n",
            "public fluents = [\n",
            " bool robot_at[l=Location]\n",
            "]\n",
            "\n",
            "actions = [\n",
            " action move(Location l_from, Location l_to) {\n",
            "    preconditions = [\n",
            "      connected(l_from, l_to)\n",
            "      free(l_to)\n",
            "      robot_at(l_from)\n",
            "    ]\n",
            "    effects = [\n",
            "      robot_at(l_from) := false\n",
            "      free(l_from) := true\n",
            "      free(l_to) := false\n",
            "      robot_at(l_to) := true\n",
            "    ]\n",
            "  }\n",
            "]\n",
            "\n",
            "\n",
            "  Agent name = robot4\n",
            "\n",
            "private fluents = [\n",
            "]\n",
            "\n",
            "public fluents = [\n",
            " bool robot_at[l=Location]\n",
            "]\n",
            "\n",
            "actions = [\n",
            " action move(Location l_from, Location l_to) {\n",
            "    preconditions = [\n",
            "      connected(l_from, l_to)\n",
            "      free(l_to)\n",
            "      robot_at(l_from)\n",
            "    ]\n",
            "    effects = [\n",
            "      robot_at(l_from) := false\n",
            "      free(l_from) := true\n",
            "      free(l_to) := false\n",
            "      robot_at(l_to) := true\n",
            "    ]\n",
            "  }\n",
            "]\n",
            "\n",
            "\n",
            "]\n",
            "\n",
            "objects = [\n",
            "  Location: [l1, l2, l3, l4, l5, l6, l7, l8, l9, l10, l11]\n",
            "]\n",
            "\n",
            "initial values = [\n",
            "  connected(l1, l2) := true\n",
            "  connected(l2, l3) := true\n",
            "  connected(l3, l4) := true\n",
            "  connected(l1, l5) := true\n",
            "  connected(l2, l5) := true\n",
            "  connected(l3, l5) := true\n",
            "  connected(l4, l5) := true\n",
            "  connected(l1, l6) := true\n",
            "  connected(l2, l6) := true\n",
            "  connected(l3, l6) := true\n",
            "  connected(l4, l6) := true\n",
            "  connected(l5, l7) := true\n",
            "  connected(l6, l7) := true\n",
            "  connected(l7, l8) := true\n",
            "  connected(l7, l9) := true\n",
            "  connected(l7, l10) := true\n",
            "  connected(l7, l11) := true\n",
            "  connected(l8, l9) := true\n",
            "  connected(l9, l10) := true\n",
            "  connected(l10, l11) := true\n",
            "  robot1.robot_at(l1) := true\n",
            "  free(l1) := false\n",
            "  robot2.robot_at(l2) := true\n",
            "  free(l2) := false\n",
            "  robot3.robot_at(l3) := true\n",
            "  free(l3) := false\n",
            "  robot4.robot_at(l4) := true\n",
            "  free(l4) := false\n",
            "]\n",
            "\n",
            "goals = [\n",
            "  robot1.robot_at(l8)\n",
            "  robot2.robot_at(l9)\n",
            "  robot3.robot_at(l10)\n",
            "  robot4.robot_at(l11)\n",
            "]\n",
            "\n",
            "\n",
            "waitfor: {}\n"
          ]
        }
      ],
      "source": [
        "# Overall\n",
        "print(problem.goals, end='\\n\\n')\n",
        "# Per-agent\n",
        "try:\n",
        "    for agent in problem.agents:\n",
        "        print(f\"{agent.name} ⇢ {agent.public_goals}\")\n",
        "except AttributeError:\n",
        "    print(problem)"
      ]
    },
    {
      "cell_type": "markdown",
      "metadata": {},
      "source": [
        "And printing the problem to check everything is as expected:"
      ]
    },
    {
      "cell_type": "markdown",
      "metadata": {},
      "source": [
        "## Robustness check"
      ]
    },
    {
      "cell_type": "markdown",
      "metadata": {},
      "source": [
        "### Trying to compile to a SAP"
      ]
    },
    {
      "cell_type": "code",
      "execution_count": 22,
      "metadata": {},
      "outputs": [
        {
          "ename": "AttributeError",
          "evalue": "MA_SINGLE_AGENT_PROJECTION",
          "output_type": "error",
          "traceback": [
            "\u001b[0;31m---------------------------------------------------------------------------\u001b[0m",
            "\u001b[0;31mAttributeError\u001b[0m                            Traceback (most recent call last)",
            "Cell \u001b[0;32mIn[22], line 3\u001b[0m\n\u001b[1;32m      1\u001b[0m \u001b[39mwith\u001b[39;00m Compiler(\n\u001b[1;32m      2\u001b[0m     problem_kind\u001b[39m=\u001b[39mproblem\u001b[39m.\u001b[39mkind,\n\u001b[0;32m----> 3\u001b[0m     compilation_kind\u001b[39m=\u001b[39mupsl\u001b[39m.\u001b[39;49msingle_agent_projection\u001b[39m.\u001b[39;49mCompilationKind\u001b[39m.\u001b[39;49mMA_SINGLE_AGENT_PROJECTION,\n\u001b[1;32m      4\u001b[0m ) \u001b[39mas\u001b[39;00m compiler:\n\u001b[1;32m      5\u001b[0m     compilation_result \u001b[39m=\u001b[39m compiler\u001b[39m.\u001b[39mcompile(problem)\n\u001b[1;32m      6\u001b[0m     \u001b[39mprint\u001b[39m(\u001b[39mf\u001b[39m\u001b[39m\"\u001b[39m\u001b[39mCompiled goals: \u001b[39m\u001b[39m{\u001b[39;00mcompilation_result\u001b[39m.\u001b[39mproblem\u001b[39m.\u001b[39mgoals\u001b[39m}\u001b[39;00m\u001b[39m\"\u001b[39m)\n",
            "File \u001b[0;32m/opt/homebrew/Cellar/python@3.11/3.11.2_1/Frameworks/Python.framework/Versions/3.11/lib/python3.11/enum.py:789\u001b[0m, in \u001b[0;36mEnumType.__getattr__\u001b[0;34m(cls, name)\u001b[0m\n\u001b[1;32m    787\u001b[0m     \u001b[39mreturn\u001b[39;00m \u001b[39mcls\u001b[39m\u001b[39m.\u001b[39m_member_map_[name]\n\u001b[1;32m    788\u001b[0m \u001b[39mexcept\u001b[39;00m \u001b[39mKeyError\u001b[39;00m:\n\u001b[0;32m--> 789\u001b[0m     \u001b[39mraise\u001b[39;00m \u001b[39mAttributeError\u001b[39;00m(name) \u001b[39mfrom\u001b[39;00m \u001b[39mNone\u001b[39;00m\n",
            "\u001b[0;31mAttributeError\u001b[0m: MA_SINGLE_AGENT_PROJECTION"
          ]
        }
      ],
      "source": [
        "with Compiler(\n",
        "    problem_kind=problem.kind,\n",
        "    compilation_kind=\n",
        ") as compiler:\n",
        "    compilation_result = compiler.compile(problem)\n",
        "    print(f\"Compiled goals: {compilation_result.problem.goals}\")"
      ]
    },
    {
      "cell_type": "code",
      "execution_count": 14,
      "metadata": {},
      "outputs": [
        {
          "ename": "AttributeError",
          "evalue": "MA_SINGLE_AGENT_PROJECTION",
          "output_type": "error",
          "traceback": [
            "\u001b[0;31m---------------------------------------------------------------------------\u001b[0m",
            "\u001b[0;31mAttributeError\u001b[0m                            Traceback (most recent call last)",
            "Cell \u001b[0;32mIn[14], line 3\u001b[0m\n\u001b[1;32m      1\u001b[0m \u001b[39mwith\u001b[39;00m Compiler(\n\u001b[1;32m      2\u001b[0m     problem_kind\u001b[39m=\u001b[39mproblem\u001b[39m.\u001b[39mkind,\n\u001b[0;32m----> 3\u001b[0m     compilation_kind\u001b[39m=\u001b[39mCompilationKind\u001b[39m.\u001b[39;49mMA_SINGLE_AGENT_PROJECTION,\n\u001b[1;32m      4\u001b[0m ) \u001b[39mas\u001b[39;00m compiler:\n\u001b[1;32m      5\u001b[0m     compilation_result \u001b[39m=\u001b[39m compiler\u001b[39m.\u001b[39mcompile(original_problem)\n\u001b[1;32m      6\u001b[0m     \u001b[39mprint\u001b[39m(\u001b[39mf\u001b[39m\u001b[39m\"\u001b[39m\u001b[39mCompiled goals: \u001b[39m\u001b[39m{\u001b[39;00mcompilation_result\u001b[39m.\u001b[39mproblem\u001b[39m.\u001b[39mgoals\u001b[39m}\u001b[39;00m\u001b[39m\"\u001b[39m)\n",
            "File \u001b[0;32m/opt/homebrew/Cellar/python@3.11/3.11.2_1/Frameworks/Python.framework/Versions/3.11/lib/python3.11/enum.py:789\u001b[0m, in \u001b[0;36mEnumType.__getattr__\u001b[0;34m(cls, name)\u001b[0m\n\u001b[1;32m    787\u001b[0m     \u001b[39mreturn\u001b[39;00m \u001b[39mcls\u001b[39m\u001b[39m.\u001b[39m_member_map_[name]\n\u001b[1;32m    788\u001b[0m \u001b[39mexcept\u001b[39;00m \u001b[39mKeyError\u001b[39;00m:\n\u001b[0;32m--> 789\u001b[0m     \u001b[39mraise\u001b[39;00m \u001b[39mAttributeError\u001b[39;00m(name) \u001b[39mfrom\u001b[39;00m \u001b[39mNone\u001b[39;00m\n",
            "\u001b[0;31mAttributeError\u001b[0m: MA_SINGLE_AGENT_PROJECTION"
          ]
        }
      ],
      "source": [
        "\n",
        "\n",
        "# from up_social_laws.single_agent_projection import SingleAgentProjection\n",
        "\n",
        "# for agent in problem.agents:\n",
        "#     with CompilationKind(MA_SINGLE_AGENT_PROJECTION):\n",
        "#         projection = SingleAgentProjection(agent)\n",
        "#         print(projection)"
      ]
    },
    {
      "cell_type": "code",
      "execution_count": null,
      "metadata": {},
      "outputs": [],
      "source": [
        "from up_social_laws.synthesis import get_gbfs_social_law_generator\n",
        "\n",
        "generator = get_gbfs_social_law_generator()\n",
        "robust_sl = generator.generate_social_law(problem)\n",
        "\n",
        "print(robust_sl)"
      ]
    }
  ],
  "metadata": {
    "celltoolbar": "Tags",
    "colab": {
      "provenance": []
    },
    "kernelspec": {
      "display_name": "Python 3 (ipykernel)",
      "language": "python",
      "name": "python3"
    },
    "language_info": {
      "codemirror_mode": {
        "name": "ipython",
        "version": 3
      },
      "file_extension": ".py",
      "mimetype": "text/x-python",
      "name": "python",
      "nbconvert_exporter": "python",
      "pygments_lexer": "ipython3",
      "version": "3.11.2"
    },
    "vscode": {
      "interpreter": {
        "hash": "fcfc934ecfdac8ddac62d6a80ba8d82faf47dc8d54fd6a313f0c016b85ebec0e"
      }
    }
  },
  "nbformat": 4,
  "nbformat_minor": 0
}
