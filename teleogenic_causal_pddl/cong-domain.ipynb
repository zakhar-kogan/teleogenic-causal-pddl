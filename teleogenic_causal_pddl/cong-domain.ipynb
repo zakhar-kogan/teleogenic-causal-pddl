{
  "cells": [
    {
      "cell_type": "markdown",
      "metadata": {
        "id": "6nOTljC_mTMn"
      },
      "source": [
        "## Congestion domain\n",
        "\n",
        "This python notebook shows the basic usage of the unified planning library + social laws extension to describe and solve a simple problem.\n",
        "\n",
        "[![Open In GitHub](https://img.shields.io/badge/see-Github-579aca?logo=github)](https:///github.com/aiplan4eu/unified-planning/blob/master/docs/notebooks/01-basic-example.ipynb)\n",
        "[![Open In Colab](https://colab.research.google.com/assets/colab-badge.svg)](https://colab.research.google.com/github/aiplan4eu/unified-planning/blob/master/docs/notebooks/01-basic-example.ipynb)"
      ]
    },
    {
      "cell_type": "markdown",
      "metadata": {
        "id": "t8dCcpf7mivV"
      },
      "source": [
        "## Setup\n"
      ]
    },
    {
      "cell_type": "markdown",
      "metadata": {
        "id": "9dP5scv7nNJu"
      },
      "source": [
        "### Imports"
      ]
    },
    {
      "cell_type": "code",
      "execution_count": 1,
      "metadata": {
        "id": "06rETnGAfQHg"
      },
      "outputs": [],
      "source": [
        "from up_social_laws.ma_problem_waitfor import MultiAgentProblemWithWaitfor\n",
        "from unified_planning.shortcuts import *\n",
        "from unified_planning.model.multi_agent import *\n",
        "up.environment.get_environment().credits_stream = None"
      ]
    },
    {
      "cell_type": "markdown",
      "metadata": {
        "id": "i8J7rP0cnvXq"
      },
      "source": [
        "## Problem representation\n",
        "\n",
        "In this example, we will model a very simple robot navigation problem.\n",
        "\n",
        "### Types\n",
        "\n",
        "The first thing to do is to introduce a \"UserType\" to model the concept of a location. It is possible to introduce as many types as needed; then, for each type we will define a set of objects of that type.  \n",
        "\n",
        "In addition to `UserType`s we have three built-in types: `Bool`, `Real` and `Integer`."
      ]
    },
    {
      "cell_type": "code",
      "execution_count": 2,
      "metadata": {},
      "outputs": [],
      "source": [
        "problem = MultiAgentProblemWithWaitfor(\"congestion\")"
      ]
    },
    {
      "cell_type": "code",
      "execution_count": 3,
      "metadata": {
        "id": "huAy2IbVn0GZ"
      },
      "outputs": [],
      "source": [
        "Location = UserType('Location')"
      ]
    },
    {
      "cell_type": "markdown",
      "metadata": {
        "id": "fDukLfPPn20t"
      },
      "source": [
        "### Fluents and constants"
      ]
    },
    {
      "cell_type": "code",
      "execution_count": 5,
      "metadata": {
        "id": "LZUgad7ZoA2p"
      },
      "outputs": [],
      "source": [
        "problem.ma_environment.clear_fluents()\n",
        "\n",
        "# Location fluent\n",
        "robot_at = Fluent('robot_at', BoolType(), l=Location)\n",
        "\n",
        "# Free location fluent\n",
        "free = Fluent('free', BoolType(), l=Location)\n",
        "# free = problem.ma_environment.add_fluent('free',\n",
        "#                                         BoolType(),\n",
        "#                                         l=Location,\n",
        "#                                         default_initial_value=True)\n",
        "problem.ma_environment.add_fluent(free, default_initial_value=True)\n",
        "\n",
        "# Adjacency fluent\n",
        "connected = problem.ma_environment.add_fluent('connected', \n",
        "                                              BoolType(), \n",
        "                                              l_from=Location, \n",
        "                                              l_to=Location, \n",
        "                                              default_initial_value=False)"
      ]
    },
    {
      "cell_type": "markdown",
      "metadata": {
        "id": "rVzqSj3XoDPa"
      },
      "source": [
        "### Actions"
      ]
    },
    {
      "cell_type": "code",
      "execution_count": 6,
      "metadata": {
        "colab": {
          "base_uri": "https://localhost:8080/",
          "height": 143
        },
        "id": "dRfrnEOfoHD8",
        "outputId": "c8a05431-896c-426a-952a-bfa36bf39cc5"
      },
      "outputs": [],
      "source": [
        "move = InstantaneousAction('move', l_from=Location, l_to=Location)\n",
        "l_from = move.parameter('l_from')\n",
        "l_to = move.parameter('l_to')\n",
        "move.add_precondition(connected(l_from, l_to))\n",
        "move.add_precondition(free(l_to))\n",
        "move.add_precondition(robot_at(l_from))\n",
        "move.add_effect(robot_at(l_from), False)\n",
        "move.add_effect(free(l_from), True)\n",
        "move.add_effect(free(l_to), False)\n",
        "move.add_effect(robot_at(l_to), True)"
      ]
    },
    {
      "cell_type": "markdown",
      "metadata": {
        "id": "iMuggWWioJ8K"
      },
      "source": [
        "## Creating the problem"
      ]
    },
    {
      "cell_type": "code",
      "execution_count": null,
      "metadata": {
        "id": "pgrJOj6ioMSC"
      },
      "outputs": [],
      "source": [
        "# problem = unified_planning.model.Problem('congestion')\n",
        "# problem.add_fluent(robot_at, default_initial_value=False)\n",
        "# problem.add_fluent(connected, default_initial_value=False)\n",
        "# problem.add_action(move)"
      ]
    },
    {
      "cell_type": "markdown",
      "metadata": {},
      "source": [
        "### Adding locations"
      ]
    },
    {
      "cell_type": "code",
      "execution_count": 7,
      "metadata": {
        "id": "jbwJbJv8oQ9B"
      },
      "outputs": [],
      "source": [
        "NLOC = 11\n",
        "locations = [Object(f'l{i+1}', Location) for i in range(NLOC)]\n",
        "problem.add_objects(locations)"
      ]
    },
    {
      "cell_type": "markdown",
      "metadata": {},
      "source": [
        "### Location adjacency"
      ]
    },
    {
      "cell_type": "markdown",
      "metadata": {},
      "source": [
        "Describing the location adjacency list as per [Overleaf document](https://www.overleaf.com/project/6485ea4fc610a58da86e2178).\n",
        "\n",
        "![picture 0](https://i.imgur.com/zHkWzky.png)  "
      ]
    },
    {
      "cell_type": "code",
      "execution_count": 8,
      "metadata": {},
      "outputs": [
        {
          "name": "stdout",
          "output_type": "stream",
          "text": [
            "1 -> 2\n",
            "2 -> 3\n",
            "3 -> 4\n",
            "1 -> 5\n",
            "2 -> 5\n",
            "3 -> 5\n",
            "4 -> 5\n",
            "1 -> 6\n",
            "2 -> 6\n",
            "3 -> 6\n",
            "4 -> 6\n",
            "5 -> 7\n",
            "6 -> 7\n",
            "7 -> 8\n",
            "7 -> 9\n",
            "7 -> 10\n",
            "7 -> 11\n",
            "8 -> 9\n",
            "9 -> 10\n",
            "10 -> 11\n"
          ]
        }
      ],
      "source": [
        "connections = [\n",
        "    (1, 2), (2, 3), (3, 4),\n",
        "    (1, 5), (2, 5), (3, 5), (4, 5),\n",
        "    (1, 6), (2, 6), (3, 6), (4, 6),\n",
        "    (5, 7), (6, 7),\n",
        "    (7, 8), (7, 9), (7, 10), (7, 11),\n",
        "    (8, 9), (9, 10), (10, 11)\n",
        "]\n",
        "\n",
        "for i, j in connections:\n",
        "    problem.set_initial_value(connected(locations[i-1], locations[j-1]), True)\n",
        "    print(f'{i} -> {j}')"
      ]
    },
    {
      "cell_type": "markdown",
      "metadata": {},
      "source": [
        "### Agents"
      ]
    },
    {
      "cell_type": "code",
      "execution_count": null,
      "metadata": {},
      "outputs": [],
      "source": []
    },
    {
      "cell_type": "markdown",
      "metadata": {
        "id": "re1sYZHKoYx5"
      },
      "source": [
        "Now we're setting the agents. We need robots to be in locations `l1-l4`, and get to locations `l8-l11` in the end."
      ]
    },
    {
      "cell_type": "code",
      "execution_count": 11,
      "metadata": {
        "colab": {
          "base_uri": "https://localhost:8080/"
        },
        "id": "4zKqcGHlocdY",
        "outputId": "bd9ac688-70d6-40ed-eced-a92c57ee1c50"
      },
      "outputs": [],
      "source": [
        "problem.clear_agents()\n",
        "\n",
        "robots_number = 4\n",
        "robots = []\n",
        "\n",
        "for i in range(robots_number):\n",
        "    robot = Agent(f'robot{i+1}', problem)\n",
        "    robots.append(robot)\n",
        "    robot.add_public_fluent(robot_at)\n",
        "    # robot.add_public_fluent(free)\n",
        "    robot.add_action(move)\n",
        "    problem.add_agent(robot)\n",
        "\n",
        "for index, robot in enumerate(robots):\n",
        "    problem.set_initial_value(Dot(robot, robot_at(locations[index])), True)\n",
        "    problem.set_initial_value(free(locations[index]), False)"
      ]
    },
    {
      "cell_type": "markdown",
      "metadata": {},
      "source": [
        "### Final checks"
      ]
    },
    {
      "cell_type": "markdown",
      "metadata": {},
      "source": [
        "Checking that our robots have been planted correctly:"
      ]
    },
    {
      "cell_type": "code",
      "execution_count": null,
      "metadata": {},
      "outputs": [],
      "source": [
        "# for i, v in enumerate(robots):\n",
        "#     print(Dot(v, robot_at(locations[i])))"
      ]
    },
    {
      "cell_type": "markdown",
      "metadata": {},
      "source": [
        "And checking that our locations have been connected correctly:"
      ]
    },
    {
      "cell_type": "code",
      "execution_count": 12,
      "metadata": {},
      "outputs": [
        {
          "data": {
            "text/plain": [
              "['connected(l1, l1): false',\n",
              " 'connected(l1, l10): false',\n",
              " 'connected(l1, l11): false',\n",
              " 'connected(l1, l2): true',\n",
              " 'connected(l1, l3): false',\n",
              " 'connected(l1, l4): false',\n",
              " 'connected(l1, l5): true',\n",
              " 'connected(l1, l6): true',\n",
              " 'connected(l1, l7): false',\n",
              " 'connected(l1, l8): false',\n",
              " 'connected(l1, l9): false',\n",
              " 'connected(l10, l1): false',\n",
              " 'connected(l10, l10): false',\n",
              " 'connected(l10, l11): true',\n",
              " 'connected(l10, l2): false',\n",
              " 'connected(l10, l3): false',\n",
              " 'connected(l10, l4): false',\n",
              " 'connected(l10, l5): false',\n",
              " 'connected(l10, l6): false',\n",
              " 'connected(l10, l7): false',\n",
              " 'connected(l10, l8): false',\n",
              " 'connected(l10, l9): false',\n",
              " 'connected(l11, l1): false',\n",
              " 'connected(l11, l10): false',\n",
              " 'connected(l11, l11): false',\n",
              " 'connected(l11, l2): false',\n",
              " 'connected(l11, l3): false',\n",
              " 'connected(l11, l4): false',\n",
              " 'connected(l11, l5): false',\n",
              " 'connected(l11, l6): false',\n",
              " 'connected(l11, l7): false',\n",
              " 'connected(l11, l8): false',\n",
              " 'connected(l11, l9): false',\n",
              " 'connected(l2, l1): false',\n",
              " 'connected(l2, l10): false',\n",
              " 'connected(l2, l11): false',\n",
              " 'connected(l2, l2): false',\n",
              " 'connected(l2, l3): true',\n",
              " 'connected(l2, l4): false',\n",
              " 'connected(l2, l5): true',\n",
              " 'connected(l2, l6): true',\n",
              " 'connected(l2, l7): false',\n",
              " 'connected(l2, l8): false',\n",
              " 'connected(l2, l9): false',\n",
              " 'connected(l3, l1): false',\n",
              " 'connected(l3, l10): false',\n",
              " 'connected(l3, l11): false',\n",
              " 'connected(l3, l2): false',\n",
              " 'connected(l3, l3): false',\n",
              " 'connected(l3, l4): true',\n",
              " 'connected(l3, l5): true',\n",
              " 'connected(l3, l6): true',\n",
              " 'connected(l3, l7): false',\n",
              " 'connected(l3, l8): false',\n",
              " 'connected(l3, l9): false',\n",
              " 'connected(l4, l1): false',\n",
              " 'connected(l4, l10): false',\n",
              " 'connected(l4, l11): false',\n",
              " 'connected(l4, l2): false',\n",
              " 'connected(l4, l3): false',\n",
              " 'connected(l4, l4): false',\n",
              " 'connected(l4, l5): true',\n",
              " 'connected(l4, l6): true',\n",
              " 'connected(l4, l7): false',\n",
              " 'connected(l4, l8): false',\n",
              " 'connected(l4, l9): false',\n",
              " 'connected(l5, l1): false',\n",
              " 'connected(l5, l10): false',\n",
              " 'connected(l5, l11): false',\n",
              " 'connected(l5, l2): false',\n",
              " 'connected(l5, l3): false',\n",
              " 'connected(l5, l4): false',\n",
              " 'connected(l5, l5): false',\n",
              " 'connected(l5, l6): false',\n",
              " 'connected(l5, l7): true',\n",
              " 'connected(l5, l8): false',\n",
              " 'connected(l5, l9): false',\n",
              " 'connected(l6, l1): false',\n",
              " 'connected(l6, l10): false',\n",
              " 'connected(l6, l11): false',\n",
              " 'connected(l6, l2): false',\n",
              " 'connected(l6, l3): false',\n",
              " 'connected(l6, l4): false',\n",
              " 'connected(l6, l5): false',\n",
              " 'connected(l6, l6): false',\n",
              " 'connected(l6, l7): true',\n",
              " 'connected(l6, l8): false',\n",
              " 'connected(l6, l9): false',\n",
              " 'connected(l7, l1): false',\n",
              " 'connected(l7, l10): true',\n",
              " 'connected(l7, l11): true',\n",
              " 'connected(l7, l2): false',\n",
              " 'connected(l7, l3): false',\n",
              " 'connected(l7, l4): false',\n",
              " 'connected(l7, l5): false',\n",
              " 'connected(l7, l6): false',\n",
              " 'connected(l7, l7): false',\n",
              " 'connected(l7, l8): true',\n",
              " 'connected(l7, l9): true',\n",
              " 'connected(l8, l1): false',\n",
              " 'connected(l8, l10): false',\n",
              " 'connected(l8, l11): false',\n",
              " 'connected(l8, l2): false',\n",
              " 'connected(l8, l3): false',\n",
              " 'connected(l8, l4): false',\n",
              " 'connected(l8, l5): false',\n",
              " 'connected(l8, l6): false',\n",
              " 'connected(l8, l7): false',\n",
              " 'connected(l8, l8): false',\n",
              " 'connected(l8, l9): true',\n",
              " 'connected(l9, l1): false',\n",
              " 'connected(l9, l10): true',\n",
              " 'connected(l9, l11): false',\n",
              " 'connected(l9, l2): false',\n",
              " 'connected(l9, l3): false',\n",
              " 'connected(l9, l4): false',\n",
              " 'connected(l9, l5): false',\n",
              " 'connected(l9, l6): false',\n",
              " 'connected(l9, l7): false',\n",
              " 'connected(l9, l8): false',\n",
              " 'connected(l9, l9): false',\n",
              " 'free(l1): false',\n",
              " 'free(l10): true',\n",
              " 'free(l11): true',\n",
              " 'free(l2): false',\n",
              " 'free(l3): false',\n",
              " 'free(l4): false',\n",
              " 'free(l5): true',\n",
              " 'free(l6): true',\n",
              " 'free(l7): true',\n",
              " 'free(l8): true',\n",
              " 'free(l9): true',\n",
              " 'robot1.robot_at(l1): true',\n",
              " 'robot2.robot_at(l2): true',\n",
              " 'robot3.robot_at(l3): true',\n",
              " 'robot4.robot_at(l4): true']"
            ]
          },
          "execution_count": 12,
          "metadata": {},
          "output_type": "execute_result"
        }
      ],
      "source": [
        "# Prints a list of all the location connections sorted alphabetically\n",
        "sorted([f'{key}: {value}' for key, value in problem.explicit_initial_values.items() if (key)])"
      ]
    },
    {
      "cell_type": "markdown",
      "metadata": {},
      "source": [
        "### Goals"
      ]
    },
    {
      "cell_type": "code",
      "execution_count": 35,
      "metadata": {},
      "outputs": [
        {
          "name": "stdout",
          "output_type": "stream",
          "text": [
            "robot1\n",
            "robot2\n",
            "robot3\n",
            "robot4\n"
          ]
        }
      ],
      "source": [
        "# Sanity check for agents\n",
        "for index, agent in enumerate(problem.agents):\n",
        "    print(agent.name)"
      ]
    },
    {
      "cell_type": "code",
      "execution_count": 54,
      "metadata": {},
      "outputs": [
        {
          "name": "stdout",
          "output_type": "stream",
          "text": [
            "add_action\n",
            "add_actions\n",
            "add_fluent\n",
            "add_fluents\n",
            "add_private_fluent\n",
            "add_private_fluents\n",
            "add_public_fluent\n",
            "add_public_fluents\n"
          ]
        }
      ],
      "source": [
        "# print([method for method \n",
        "#        in dir(problem.agents[0]) \n",
        "#        if not method.startswith('_') \n",
        "#        and 'add' in method])\n",
        "\n",
        "for method in dir(problem.agents[0]):\n",
        "    if not method.startswith('_') and 'add' in method:\n",
        "        print(method)"
      ]
    },
    {
      "cell_type": "markdown",
      "metadata": {},
      "source": [
        "Defining the goals for robots:"
      ]
    },
    {
      "cell_type": "code",
      "execution_count": 74,
      "metadata": {},
      "outputs": [
        {
          "ename": "UPExpressionDefinitionError",
          "evalue": "In FluentExp, fluent: robot_at has arity 1 but 2 parameters were passed.",
          "output_type": "error",
          "traceback": [
            "\u001b[0;31m---------------------------------------------------------------------------\u001b[0m",
            "\u001b[0;31mUPExpressionDefinitionError\u001b[0m               Traceback (most recent call last)",
            "Cell \u001b[0;32mIn[74], line 8\u001b[0m\n\u001b[1;32m      4\u001b[0m current \u001b[39m=\u001b[39m problem\u001b[39m.\u001b[39magent(robot\u001b[39m.\u001b[39mname)\n\u001b[1;32m      5\u001b[0m \u001b[39m# https://unified-planning.readthedocs.io/en/latest/problem_representation.html#multiagent-example\u001b[39;00m\n\u001b[1;32m      6\u001b[0m \u001b[39m# problem.add_goal(Equals(Dot(current, robot_at), locations[index+7]))\u001b[39;00m\n\u001b[1;32m      7\u001b[0m \u001b[39m# The only way that seems to work\u001b[39;00m\n\u001b[0;32m----> 8\u001b[0m problem\u001b[39m.\u001b[39madd_goal(Dot(current, robot_at(locations[index\u001b[39m+\u001b[39;49m\u001b[39m7\u001b[39;49m], \u001b[39mTrue\u001b[39;49;00m)))\n\u001b[1;32m      9\u001b[0m \u001b[39m# A hacky way to add public goals (not working)\u001b[39;00m\n\u001b[1;32m     10\u001b[0m \u001b[39m# current.public_goals = robot_at(locations[index+7])\u001b[39;00m\n\u001b[1;32m     11\u001b[0m \u001b[39m# https://github.com/aiplan4eu/up-social-laws/blob/master/docs/notebook/Social_laws_usecase.ipynb\u001b[39;00m\n\u001b[1;32m     12\u001b[0m \u001b[39m# current.add_public_goal(robot_at(locations[index+7]))\u001b[39;00m\n",
            "File \u001b[0;32m~/Desktop/code/teleogenic-causal-pddl/.venv/lib/python3.11/site-packages/unified_planning/model/fluent.py:152\u001b[0m, in \u001b[0;36mFluent.__call__\u001b[0;34m(self, *args)\u001b[0m\n\u001b[1;32m    143\u001b[0m \u001b[39mdef\u001b[39;00m \u001b[39m__call__\u001b[39m(\n\u001b[1;32m    144\u001b[0m     \u001b[39mself\u001b[39m, \u001b[39m*\u001b[39margs: \u001b[39m\"\u001b[39m\u001b[39mup.model.expression.Expression\u001b[39m\u001b[39m\"\u001b[39m\n\u001b[1;32m    145\u001b[0m ) \u001b[39m-\u001b[39m\u001b[39m>\u001b[39m \u001b[39m\"\u001b[39m\u001b[39mup.model.fnode.FNode\u001b[39m\u001b[39m\"\u001b[39m:\n\u001b[1;32m    146\u001b[0m \u001b[39m    \u001b[39m\u001b[39m\"\"\"\u001b[39;00m\n\u001b[1;32m    147\u001b[0m \u001b[39m    Returns a fluent expression with the given parameters.\u001b[39;00m\n\u001b[1;32m    148\u001b[0m \n\u001b[1;32m    149\u001b[0m \u001b[39m    :param args: The expressions used as this fluent's parameters in the created expression.\u001b[39;00m\n\u001b[1;32m    150\u001b[0m \u001b[39m    :return: The created FluentExp.\u001b[39;00m\n\u001b[1;32m    151\u001b[0m \u001b[39m    \"\"\"\u001b[39;00m\n\u001b[0;32m--> 152\u001b[0m     \u001b[39mreturn\u001b[39;00m \u001b[39mself\u001b[39;49m\u001b[39m.\u001b[39;49m_env\u001b[39m.\u001b[39;49mexpression_manager\u001b[39m.\u001b[39;49mFluentExp(\u001b[39mself\u001b[39;49m, args)\n",
            "File \u001b[0;32m~/Desktop/code/teleogenic-causal-pddl/.venv/lib/python3.11/site-packages/unified_planning/model/expression.py:473\u001b[0m, in \u001b[0;36mExpressionManager.FluentExp\u001b[0;34m(self, fluent, params)\u001b[0m\n\u001b[1;32m    471\u001b[0m params_exp \u001b[39m=\u001b[39m \u001b[39mself\u001b[39m\u001b[39m.\u001b[39mauto_promote(params)\n\u001b[1;32m    472\u001b[0m \u001b[39mif\u001b[39;00m fluent\u001b[39m.\u001b[39marity \u001b[39m!=\u001b[39m \u001b[39mlen\u001b[39m(params_exp):\n\u001b[0;32m--> 473\u001b[0m     \u001b[39mraise\u001b[39;00m UPExpressionDefinitionError(\n\u001b[1;32m    474\u001b[0m         \u001b[39mf\u001b[39m\u001b[39m\"\u001b[39m\u001b[39mIn FluentExp, fluent: \u001b[39m\u001b[39m{\u001b[39;00mfluent\u001b[39m.\u001b[39mname\u001b[39m}\u001b[39;00m\u001b[39m has arity \u001b[39m\u001b[39m{\u001b[39;00mfluent\u001b[39m.\u001b[39marity\u001b[39m}\u001b[39;00m\u001b[39m but \u001b[39m\u001b[39m{\u001b[39;00m\u001b[39mlen\u001b[39m(params_exp)\u001b[39m}\u001b[39;00m\u001b[39m parameters were passed.\u001b[39m\u001b[39m\"\u001b[39m\n\u001b[1;32m    475\u001b[0m     )\n\u001b[1;32m    476\u001b[0m \u001b[39mreturn\u001b[39;00m \u001b[39mself\u001b[39m\u001b[39m.\u001b[39mcreate_node(\n\u001b[1;32m    477\u001b[0m     node_type\u001b[39m=\u001b[39mOperatorKind\u001b[39m.\u001b[39mFLUENT_EXP, args\u001b[39m=\u001b[39m\u001b[39mtuple\u001b[39m(params_exp), payload\u001b[39m=\u001b[39mfluent\n\u001b[1;32m    478\u001b[0m )\n",
            "\u001b[0;31mUPExpressionDefinitionError\u001b[0m: In FluentExp, fluent: robot_at has arity 1 but 2 parameters were passed."
          ]
        }
      ],
      "source": [
        "problem.clear_goals()\n",
        "\n",
        "for index, robot in enumerate(problem.agents):\n",
        "    current = problem.agent(robot.name)\n",
        "    # https://unified-planning.readthedocs.io/en/latest/problem_representation.html#multiagent-example\n",
        "    # problem.add_goal(Equals(Dot(current, robot_at), locations[index+7]))\n",
        "    # The only way that seems to work\n",
        "    problem.add_goal(Dot(current, robot_at(locations[index+7], True)))\n",
        "    # A hacky way to add public goals (not working)\n",
        "    # current.public_goals = robot_at(locations[index+7])\n",
        "    # https://github.com/aiplan4eu/up-social-laws/blob/master/docs/notebook/Social_laws_usecase.ipynb\n",
        "    # current.add_public_goal(robot_at(locations[index+7]))"
      ]
    },
    {
      "cell_type": "markdown",
      "metadata": {},
      "source": [
        "Checking our goals had been set correctly:"
      ]
    },
    {
      "cell_type": "code",
      "execution_count": 65,
      "metadata": {},
      "outputs": [
        {
          "data": {
            "text/plain": [
              "[]"
            ]
          },
          "execution_count": 65,
          "metadata": {},
          "output_type": "execute_result"
        }
      ],
      "source": [
        "problem.goals"
      ]
    },
    {
      "cell_type": "markdown",
      "metadata": {},
      "source": [
        "And printing the problem to check everything is as expected:"
      ]
    },
    {
      "cell_type": "code",
      "execution_count": 67,
      "metadata": {},
      "outputs": [
        {
          "name": "stdout",
          "output_type": "stream",
          "text": [
            "problem name = congestion\n",
            "\n",
            "types = [Location]\n",
            "\n",
            "environment fluents = [\n",
            "  bool free[l=Location]\n",
            "  bool connected[l_from=Location, l_to=Location]\n",
            "]\n",
            "\n",
            "agents = [\n",
            "  Agent name = robot1\n",
            "\n",
            "private fluents = [\n",
            "]\n",
            "\n",
            "public fluents = [\n",
            " bool robot_at[l=Location]\n",
            "]\n",
            "\n",
            "actions = [\n",
            " action move(Location l_from, Location l_to) {\n",
            "    preconditions = [\n",
            "      connected(l_from, l_to)\n",
            "      free(l_to)\n",
            "      robot_at(l_from)\n",
            "    ]\n",
            "    effects = [\n",
            "      robot_at(l_from) := false\n",
            "      free(l_from) := true\n",
            "      free(l_to) := false\n",
            "      robot_at(l_to) := true\n",
            "    ]\n",
            "  }\n",
            "]\n",
            "\n",
            "\n",
            "  Agent name = robot2\n",
            "\n",
            "private fluents = [\n",
            "]\n",
            "\n",
            "public fluents = [\n",
            " bool robot_at[l=Location]\n",
            "]\n",
            "\n",
            "actions = [\n",
            " action move(Location l_from, Location l_to) {\n",
            "    preconditions = [\n",
            "      connected(l_from, l_to)\n",
            "      free(l_to)\n",
            "      robot_at(l_from)\n",
            "    ]\n",
            "    effects = [\n",
            "      robot_at(l_from) := false\n",
            "      free(l_from) := true\n",
            "      free(l_to) := false\n",
            "      robot_at(l_to) := true\n",
            "    ]\n",
            "  }\n",
            "]\n",
            "\n",
            "\n",
            "  Agent name = robot3\n",
            "\n",
            "private fluents = [\n",
            "]\n",
            "\n",
            "public fluents = [\n",
            " bool robot_at[l=Location]\n",
            "]\n",
            "\n",
            "actions = [\n",
            " action move(Location l_from, Location l_to) {\n",
            "    preconditions = [\n",
            "      connected(l_from, l_to)\n",
            "      free(l_to)\n",
            "      robot_at(l_from)\n",
            "    ]\n",
            "    effects = [\n",
            "      robot_at(l_from) := false\n",
            "      free(l_from) := true\n",
            "      free(l_to) := false\n",
            "      robot_at(l_to) := true\n",
            "    ]\n",
            "  }\n",
            "]\n",
            "\n",
            "\n",
            "  Agent name = robot4\n",
            "\n",
            "private fluents = [\n",
            "]\n",
            "\n",
            "public fluents = [\n",
            " bool robot_at[l=Location]\n",
            "]\n",
            "\n",
            "actions = [\n",
            " action move(Location l_from, Location l_to) {\n",
            "    preconditions = [\n",
            "      connected(l_from, l_to)\n",
            "      free(l_to)\n",
            "      robot_at(l_from)\n",
            "    ]\n",
            "    effects = [\n",
            "      robot_at(l_from) := false\n",
            "      free(l_from) := true\n",
            "      free(l_to) := false\n",
            "      robot_at(l_to) := true\n",
            "    ]\n",
            "  }\n",
            "]\n",
            "\n",
            "\n",
            "]\n",
            "\n",
            "objects = [\n",
            "  Location: [l1, l2, l3, l4, l5, l6, l7, l8, l9, l10, l11]\n",
            "]\n",
            "\n",
            "initial values = [\n",
            "  connected(l1, l2) := true\n",
            "  connected(l2, l3) := true\n",
            "  connected(l3, l4) := true\n",
            "  connected(l1, l5) := true\n",
            "  connected(l2, l5) := true\n",
            "  connected(l3, l5) := true\n",
            "  connected(l4, l5) := true\n",
            "  connected(l1, l6) := true\n",
            "  connected(l2, l6) := true\n",
            "  connected(l3, l6) := true\n",
            "  connected(l4, l6) := true\n",
            "  connected(l5, l7) := true\n",
            "  connected(l6, l7) := true\n",
            "  connected(l7, l8) := true\n",
            "  connected(l7, l9) := true\n",
            "  connected(l7, l10) := true\n",
            "  connected(l7, l11) := true\n",
            "  connected(l8, l9) := true\n",
            "  connected(l9, l10) := true\n",
            "  connected(l10, l11) := true\n",
            "  free(l1) := false\n",
            "  free(l2) := false\n",
            "  free(l3) := false\n",
            "  free(l4) := false\n",
            "  free(l5) := true\n",
            "  free(l6) := true\n",
            "  free(l7) := true\n",
            "  free(l8) := true\n",
            "  free(l9) := true\n",
            "  free(l10) := true\n",
            "  free(l11) := true\n",
            "  connected(l1, l1) := false\n",
            "  connected(l2, l1) := false\n",
            "  connected(l3, l1) := false\n",
            "  connected(l4, l1) := false\n",
            "  connected(l5, l1) := false\n",
            "  connected(l6, l1) := false\n",
            "  connected(l7, l1) := false\n",
            "  connected(l8, l1) := false\n",
            "  connected(l9, l1) := false\n",
            "  connected(l10, l1) := false\n",
            "  connected(l11, l1) := false\n",
            "  connected(l2, l2) := false\n",
            "  connected(l3, l2) := false\n",
            "  connected(l4, l2) := false\n",
            "  connected(l5, l2) := false\n",
            "  connected(l6, l2) := false\n",
            "  connected(l7, l2) := false\n",
            "  connected(l8, l2) := false\n",
            "  connected(l9, l2) := false\n",
            "  connected(l10, l2) := false\n",
            "  connected(l11, l2) := false\n",
            "  connected(l1, l3) := false\n",
            "  connected(l3, l3) := false\n",
            "  connected(l4, l3) := false\n",
            "  connected(l5, l3) := false\n",
            "  connected(l6, l3) := false\n",
            "  connected(l7, l3) := false\n",
            "  connected(l8, l3) := false\n",
            "  connected(l9, l3) := false\n",
            "  connected(l10, l3) := false\n",
            "  connected(l11, l3) := false\n",
            "  connected(l1, l4) := false\n",
            "  connected(l2, l4) := false\n",
            "  connected(l4, l4) := false\n",
            "  connected(l5, l4) := false\n",
            "  connected(l6, l4) := false\n",
            "  connected(l7, l4) := false\n",
            "  connected(l8, l4) := false\n",
            "  connected(l9, l4) := false\n",
            "  connected(l10, l4) := false\n",
            "  connected(l11, l4) := false\n",
            "  connected(l5, l5) := false\n",
            "  connected(l6, l5) := false\n",
            "  connected(l7, l5) := false\n",
            "  connected(l8, l5) := false\n",
            "  connected(l9, l5) := false\n",
            "  connected(l10, l5) := false\n",
            "  connected(l11, l5) := false\n",
            "  connected(l5, l6) := false\n",
            "  connected(l6, l6) := false\n",
            "  connected(l7, l6) := false\n",
            "  connected(l8, l6) := false\n",
            "  connected(l9, l6) := false\n",
            "  connected(l10, l6) := false\n",
            "  connected(l11, l6) := false\n",
            "  connected(l1, l7) := false\n",
            "  connected(l2, l7) := false\n",
            "  connected(l3, l7) := false\n",
            "  connected(l4, l7) := false\n",
            "  connected(l7, l7) := false\n",
            "  connected(l8, l7) := false\n",
            "  connected(l9, l7) := false\n",
            "  connected(l10, l7) := false\n",
            "  connected(l11, l7) := false\n",
            "  connected(l1, l8) := false\n",
            "  connected(l2, l8) := false\n",
            "  connected(l3, l8) := false\n",
            "  connected(l4, l8) := false\n",
            "  connected(l5, l8) := false\n",
            "  connected(l6, l8) := false\n",
            "  connected(l8, l8) := false\n",
            "  connected(l9, l8) := false\n",
            "  connected(l10, l8) := false\n",
            "  connected(l11, l8) := false\n",
            "  connected(l1, l9) := false\n",
            "  connected(l2, l9) := false\n",
            "  connected(l3, l9) := false\n",
            "  connected(l4, l9) := false\n",
            "  connected(l5, l9) := false\n",
            "  connected(l6, l9) := false\n",
            "  connected(l9, l9) := false\n",
            "  connected(l10, l9) := false\n",
            "  connected(l11, l9) := false\n",
            "  connected(l1, l10) := false\n",
            "  connected(l2, l10) := false\n",
            "  connected(l3, l10) := false\n",
            "  connected(l4, l10) := false\n",
            "  connected(l5, l10) := false\n",
            "  connected(l6, l10) := false\n",
            "  connected(l8, l10) := false\n",
            "  connected(l10, l10) := false\n",
            "  connected(l11, l10) := false\n",
            "  connected(l1, l11) := false\n",
            "  connected(l2, l11) := false\n",
            "  connected(l3, l11) := false\n",
            "  connected(l4, l11) := false\n",
            "  connected(l5, l11) := false\n",
            "  connected(l6, l11) := false\n",
            "  connected(l8, l11) := false\n",
            "  connected(l9, l11) := false\n",
            "  connected(l11, l11) := false\n",
            "  robot1.robot_at(l1) := true\n",
            "  robot2.robot_at(l2) := true\n",
            "  robot3.robot_at(l3) := true\n",
            "  robot4.robot_at(l4) := true\n",
            "]\n",
            "\n",
            "goals = [\n",
            "]\n",
            "\n",
            "\n",
            "waitfor: {}\n"
          ]
        }
      ],
      "source": [
        "print (problem)"
      ]
    },
    {
      "cell_type": "markdown",
      "metadata": {},
      "source": [
        "## Robustness check"
      ]
    },
    {
      "cell_type": "markdown",
      "metadata": {},
      "source": [
        "### Trying to compile to a SAP"
      ]
    },
    {
      "cell_type": "code",
      "execution_count": 69,
      "metadata": {},
      "outputs": [
        {
          "ename": "AttributeError",
          "evalue": "MA_SINGLE_AGENT_PROJECTION",
          "output_type": "error",
          "traceback": [
            "\u001b[0;31m---------------------------------------------------------------------------\u001b[0m",
            "\u001b[0;31mAttributeError\u001b[0m                            Traceback (most recent call last)",
            "Cell \u001b[0;32mIn[69], line 4\u001b[0m\n\u001b[1;32m      1\u001b[0m \u001b[39mfrom\u001b[39;00m \u001b[39mup_social_laws\u001b[39;00m\u001b[39m.\u001b[39;00m\u001b[39msingle_agent_projection\u001b[39;00m \u001b[39mimport\u001b[39;00m SingleAgentProjection\n\u001b[1;32m      3\u001b[0m \u001b[39mfor\u001b[39;00m agent \u001b[39min\u001b[39;00m problem\u001b[39m.\u001b[39magents:\n\u001b[0;32m----> 4\u001b[0m     projection \u001b[39m=\u001b[39m SingleAgentProjection(agent)\n\u001b[1;32m      5\u001b[0m     \u001b[39mprint\u001b[39m(projection)\n",
            "File \u001b[0;32m~/Desktop/code/teleogenic-causal-pddl/.venv/lib/python3.11/site-packages/up_social_laws/single_agent_projection.py:51\u001b[0m, in \u001b[0;36mSingleAgentProjection.__init__\u001b[0;34m(self, agent)\u001b[0m\n\u001b[1;32m     49\u001b[0m \u001b[39mdef\u001b[39;00m \u001b[39m__init__\u001b[39m(\u001b[39mself\u001b[39m, agent: Agent):\n\u001b[1;32m     50\u001b[0m     engines\u001b[39m.\u001b[39mengine\u001b[39m.\u001b[39mEngine\u001b[39m.\u001b[39m\u001b[39m__init__\u001b[39m(\u001b[39mself\u001b[39m)\n\u001b[0;32m---> 51\u001b[0m     CompilerMixin\u001b[39m.\u001b[39m\u001b[39m__init__\u001b[39m(\u001b[39mself\u001b[39m, CompilationKind\u001b[39m.\u001b[39;49mMA_SINGLE_AGENT_PROJECTION)                \n\u001b[1;32m     52\u001b[0m     \u001b[39mself\u001b[39m\u001b[39m.\u001b[39m_agent \u001b[39m=\u001b[39m agent\n",
            "File \u001b[0;32m/opt/homebrew/Cellar/python@3.11/3.11.2_1/Frameworks/Python.framework/Versions/3.11/lib/python3.11/enum.py:789\u001b[0m, in \u001b[0;36mEnumType.__getattr__\u001b[0;34m(cls, name)\u001b[0m\n\u001b[1;32m    787\u001b[0m     \u001b[39mreturn\u001b[39;00m \u001b[39mcls\u001b[39m\u001b[39m.\u001b[39m_member_map_[name]\n\u001b[1;32m    788\u001b[0m \u001b[39mexcept\u001b[39;00m \u001b[39mKeyError\u001b[39;00m:\n\u001b[0;32m--> 789\u001b[0m     \u001b[39mraise\u001b[39;00m \u001b[39mAttributeError\u001b[39;00m(name) \u001b[39mfrom\u001b[39;00m \u001b[39mNone\u001b[39;00m\n",
            "\u001b[0;31mAttributeError\u001b[0m: MA_SINGLE_AGENT_PROJECTION"
          ]
        }
      ],
      "source": [
        "from up_social_laws.single_agent_projection import SingleAgentProjection\n",
        "\n",
        "for agent in problem.agents:\n",
        "    projection = SingleAgentProjection(agent)\n",
        "    print(projection)"
      ]
    },
    {
      "cell_type": "code",
      "execution_count": null,
      "metadata": {},
      "outputs": [],
      "source": [
        "from up_social_laws.robustness_checker import SocialLawRobustnessChecker\n",
        "\n",
        "slrc = SocialLawRobustnessChecker()\n",
        "\n",
        "result = slrc.is_single_agent_solvable(problem)"
      ]
    },
    {
      "cell_type": "code",
      "execution_count": null,
      "metadata": {},
      "outputs": [],
      "source": [
        "from up_social_laws.synthesis import SocialLawGenerator, get_gbfs_social_law_generator\n",
        "\n",
        "generator = get_gbfs_social_law_generator()\n",
        "robust_sl = generator.generate_social_law(problem)\n",
        "\n",
        "print(robust_sl)"
      ]
    }
  ],
  "metadata": {
    "celltoolbar": "Tags",
    "colab": {
      "provenance": []
    },
    "kernelspec": {
      "display_name": "Python 3 (ipykernel)",
      "language": "python",
      "name": "python3"
    },
    "language_info": {
      "codemirror_mode": {
        "name": "ipython",
        "version": 3
      },
      "file_extension": ".py",
      "mimetype": "text/x-python",
      "name": "python",
      "nbconvert_exporter": "python",
      "pygments_lexer": "ipython3",
      "version": "3.11.2"
    },
    "vscode": {
      "interpreter": {
        "hash": "fcfc934ecfdac8ddac62d6a80ba8d82faf47dc8d54fd6a313f0c016b85ebec0e"
      }
    }
  },
  "nbformat": 4,
  "nbformat_minor": 0
}
